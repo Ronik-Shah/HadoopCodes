{
  "nbformat": 4,
  "nbformat_minor": 0,
  "metadata": {
    "colab": {
      "name": "Exp_3.ipynb",
      "provenance": []
    },
    "kernelspec": {
      "name": "python3",
      "display_name": "Python 3"
    }
  },
  "cells": [
    {
      "cell_type": "code",
      "metadata": {
        "id": "o-FQU_DcNx59",
        "colab_type": "code",
        "colab": {}
      },
      "source": [
        "from sklearn.datasets import fetch_20newsgroups"
      ],
      "execution_count": 0,
      "outputs": []
    },
    {
      "cell_type": "code",
      "metadata": {
        "id": "YafPjOABO0WI",
        "colab_type": "code",
        "colab": {}
      },
      "source": [
        "import numpy as np\n",
        "from sklearn.feature_extraction.text import TfidfVectorizer\n",
        "import matplotlib.pyplot as plt"
      ],
      "execution_count": 0,
      "outputs": []
    },
    {
      "cell_type": "code",
      "metadata": {
        "id": "eI3luoREQyjK",
        "colab_type": "code",
        "outputId": "bcc5f24a-38e0-4d87-b857-08de440f01c6",
        "colab": {
          "base_uri": "https://localhost:8080/",
          "height": 50
        }
      },
      "source": [
        "x = fetch_20newsgroups(subset= 'train')\n",
        "\n"
      ],
      "execution_count": 4,
      "outputs": [
        {
          "output_type": "stream",
          "text": [
            "Downloading 20news dataset. This may take a few minutes.\n",
            "Downloading dataset from https://ndownloader.figshare.com/files/5975967 (14 MB)\n"
          ],
          "name": "stderr"
        }
      ]
    },
    {
      "cell_type": "code",
      "metadata": {
        "id": "W-K_SGTSO5LQ",
        "colab_type": "code",
        "colab": {}
      },
      "source": [
        "categories = None\n",
        "data_train = fetch_20newsgroups(subset='train', remove=('headers', 'footers', 'quotes'), categories=categories)\n",
        "data_test = fetch_20newsgroups(subset='test', remove=('headers', 'footers', 'quotes'), categories=categories)"
      ],
      "execution_count": 0,
      "outputs": []
    },
    {
      "cell_type": "code",
      "metadata": {
        "id": "VexzB3wgTWU5",
        "colab_type": "code",
        "outputId": "7ac08b7b-92b6-4c2a-d5a1-7840d95cfb51",
        "colab": {
          "base_uri": "https://localhost:8080/",
          "height": 34
        }
      },
      "source": [
        "type(data_train)\n",
        "type(data_test)"
      ],
      "execution_count": 6,
      "outputs": [
        {
          "output_type": "execute_result",
          "data": {
            "text/plain": [
              "sklearn.utils.Bunch"
            ]
          },
          "metadata": {
            "tags": []
          },
          "execution_count": 6
        }
      ]
    },
    {
      "cell_type": "code",
      "metadata": {
        "id": "Ka7LU5wITfBl",
        "colab_type": "code",
        "outputId": "1dd1618d-d528-4343-bda2-b5f4af7ea943",
        "colab": {
          "base_uri": "https://localhost:8080/",
          "height": 70
        }
      },
      "source": [
        "print (\"Train data target names:\",data_train.target_names)\n",
        "print (\"Test data target names:\",data_test.target_names)\n"
      ],
      "execution_count": 7,
      "outputs": [
        {
          "output_type": "stream",
          "text": [
            "Train data target names: ['alt.atheism', 'comp.graphics', 'comp.os.ms-windows.misc', 'comp.sys.ibm.pc.hardware', 'comp.sys.mac.hardware', 'comp.windows.x', 'misc.forsale', 'rec.autos', 'rec.motorcycles', 'rec.sport.baseball', 'rec.sport.hockey', 'sci.crypt', 'sci.electronics', 'sci.med', 'sci.space', 'soc.religion.christian', 'talk.politics.guns', 'talk.politics.mideast', 'talk.politics.misc', 'talk.religion.misc']\n",
            "Test data target names: ['alt.atheism', 'comp.graphics', 'comp.os.ms-windows.misc', 'comp.sys.ibm.pc.hardware', 'comp.sys.mac.hardware', 'comp.windows.x', 'misc.forsale', 'rec.autos', 'rec.motorcycles', 'rec.sport.baseball', 'rec.sport.hockey', 'sci.crypt', 'sci.electronics', 'sci.med', 'sci.space', 'soc.religion.christian', 'talk.politics.guns', 'talk.politics.mideast', 'talk.politics.misc', 'talk.religion.misc']\n"
          ],
          "name": "stdout"
        }
      ]
    },
    {
      "cell_type": "code",
      "metadata": {
        "id": "Xsku0oivXOhs",
        "colab_type": "code",
        "colab": {}
      },
      "source": [
        "vectorizer = TfidfVectorizer()\n",
        "data_train_vectors = vectorizer.fit_transform(data_train.data)\n",
        "data_test_vectors = vectorizer.transform(data_test.data) "
      ],
      "execution_count": 0,
      "outputs": []
    },
    {
      "cell_type": "code",
      "metadata": {
        "id": "_vGvGhQjXanu",
        "colab_type": "code",
        "outputId": "8ec9a71e-31b9-41df-ece5-3012a1e8f272",
        "colab": {
          "base_uri": "https://localhost:8080/",
          "height": 84
        }
      },
      "source": [
        " #Train data type\n",
        "print (type(data_train_vectors.data))\n",
        "print (type(data_train.target))\n",
        "\n",
        "# Test data type\n",
        "print (type(data_train_vectors.data))\n",
        "print (type(data_train.target))"
      ],
      "execution_count": 9,
      "outputs": [
        {
          "output_type": "stream",
          "text": [
            "<class 'numpy.ndarray'>\n",
            "<class 'numpy.ndarray'>\n",
            "<class 'numpy.ndarray'>\n",
            "<class 'numpy.ndarray'>\n"
          ],
          "name": "stdout"
        }
      ]
    },
    {
      "cell_type": "code",
      "metadata": {
        "id": "KYv99SX2LZbK",
        "colab_type": "code",
        "outputId": "91b6e265-0ac4-49d7-d0b4-effbd0cce3dd",
        "colab": {
          "base_uri": "https://localhost:8080/",
          "height": 907
        }
      },
      "source": [
        " #store training feature matrix in \"Xtr\"\n",
        "Xtr = data_train_vectors\n",
        "print (\"Xtr:\\n\", Xtr)\n",
        "\n",
        "# store training response vector in \"ytr\"\n",
        "ytr = data_train.target\n",
        "print (\"ytr:\",ytr)"
      ],
      "execution_count": 10,
      "outputs": [
        {
          "output_type": "stream",
          "text": [
            "Xtr:\n",
            "   (0, 59216)\t0.08725268270111304\n",
            "  (0, 71850)\t0.07616585088687908\n",
            "  (0, 57393)\t0.0923857759707218\n",
            "  (0, 41979)\t0.19506948098166685\n",
            "  (0, 45885)\t0.04116726358517173\n",
            "  (0, 100208)\t0.04162912251846176\n",
            "  (0, 49932)\t0.10311614467122757\n",
            "  (0, 96395)\t0.10736893400961603\n",
            "  (0, 68409)\t0.045794107112368615\n",
            "  (0, 46814)\t0.10862631323814369\n",
            "  (0, 59079)\t0.08409501360833291\n",
            "  (0, 96433)\t0.07424754622734692\n",
            "  (0, 73373)\t0.14022858154649154\n",
            "  (0, 99911)\t0.0818197705881931\n",
            "  (0, 84276)\t0.14185552804207183\n",
            "  (0, 37287)\t0.12458509983363618\n",
            "  (0, 64931)\t0.09279094041294153\n",
            "  (0, 62746)\t0.11325721998728744\n",
            "  (0, 88143)\t0.2242035496067306\n",
            "  (0, 25590)\t0.048870877324188766\n",
            "  (0, 54632)\t0.06048007039093347\n",
            "  (0, 17936)\t0.052663855225258106\n",
            "  (0, 51136)\t0.06865521705397437\n",
            "  (0, 23480)\t0.1123868370862882\n",
            "  (0, 67670)\t0.06456572940695553\n",
            "  :\t:\n",
            "  (11313, 81742)\t0.13241254413957532\n",
            "  (11313, 81792)\t0.14804499058455659\n",
            "  (11313, 40387)\t0.0867206848739519\n",
            "  (11313, 47209)\t0.15303400468821185\n",
            "  (11313, 25475)\t0.13373887048501934\n",
            "  (11313, 90644)\t0.11716855199310572\n",
            "  (11313, 6044)\t0.20918997009133847\n",
            "  (11313, 44748)\t0.11070348996423005\n",
            "  (11313, 22529)\t0.09187360726787282\n",
            "  (11313, 68997)\t0.0833655821220648\n",
            "  (11313, 46271)\t0.08973049108297083\n",
            "  (11313, 2777)\t0.10299961438227635\n",
            "  (11313, 66242)\t0.06149181729960768\n",
            "  (11313, 20123)\t0.05436048417734594\n",
            "  (11313, 57131)\t0.08897900001645209\n",
            "  (11313, 64435)\t0.058038402626956455\n",
            "  (11313, 18521)\t0.06883288613042422\n",
            "  (11313, 41127)\t0.039704635902248736\n",
            "  (11313, 66857)\t0.19058690917753038\n",
            "  (11313, 68409)\t0.049284812059613034\n",
            "  (11313, 37287)\t0.13408173273609872\n",
            "  (11313, 41715)\t0.054705611892621644\n",
            "  (11313, 51326)\t0.03818144305612196\n",
            "  (11313, 68080)\t0.04463717354330131\n",
            "  (11313, 60560)\t0.061180430720823166\n",
            "ytr: [7 4 4 ... 3 1 8]\n"
          ],
          "name": "stdout"
        }
      ]
    },
    {
      "cell_type": "code",
      "metadata": {
        "id": "U8-H2J8TMd7e",
        "colab_type": "code",
        "colab": {}
      },
      "source": [
        "from sklearn.naive_bayes import MultinomialNB"
      ],
      "execution_count": 0,
      "outputs": []
    },
    {
      "cell_type": "code",
      "metadata": {
        "id": "XYSym5J_U_E3",
        "colab_type": "code",
        "outputId": "4f41b8f1-4c13-4cf9-a486-8be89263f8f2",
        "colab": {
          "base_uri": "https://localhost:8080/",
          "height": 907
        }
      },
      "source": [
        "Xtt = data_test_vectors\n",
        "print (\"Xtt:\\n\", Xtt)\n",
        "\n",
        "# store testing response vector in \"ytt\"\n",
        "ytt = data_test.target\n",
        "print (\"ytt:\",ytt)"
      ],
      "execution_count": 12,
      "outputs": [
        {
          "output_type": "stream",
          "text": [
            "Xtt:\n",
            "   (0, 100208)\t0.04552652065236068\n",
            "  (0, 99908)\t0.09332616771302898\n",
            "  (0, 97240)\t0.11951258956562365\n",
            "  (0, 96391)\t0.05867573115101415\n",
            "  (0, 93592)\t0.24772115542399506\n",
            "  (0, 92955)\t0.11541103934826256\n",
            "  (0, 89360)\t0.06562103715075537\n",
            "  (0, 89092)\t0.14592509321427227\n",
            "  (0, 88767)\t0.044847221550678766\n",
            "  (0, 88694)\t0.05609512027045376\n",
            "  (0, 88578)\t0.07154608326188232\n",
            "  (0, 88532)\t0.2395528152171037\n",
            "  (0, 88519)\t0.03921639192748113\n",
            "  (0, 88501)\t0.06998314809025451\n",
            "  (0, 88138)\t0.09661130503410108\n",
            "  (0, 86307)\t0.14214443084125739\n",
            "  (0, 84598)\t0.15477036379403195\n",
            "  (0, 83888)\t0.09322903287306315\n",
            "  (0, 81241)\t0.14621282905564145\n",
            "  (0, 72905)\t0.2451939150765593\n",
            "  (0, 70695)\t0.1276914606142514\n",
            "  (0, 68781)\t0.06795439065647194\n",
            "  (0, 68409)\t0.0500814390762879\n",
            "  (0, 68080)\t0.04535867732725786\n",
            "  (0, 67670)\t0.14122099316299058\n",
            "  :\t:\n",
            "  (7531, 54632)\t0.07179487683313424\n",
            "  (7531, 51223)\t0.11159470709485804\n",
            "  (7531, 51136)\t0.16299891255024412\n",
            "  (7531, 48650)\t0.11268973116168066\n",
            "  (7531, 47204)\t0.3742651013346243\n",
            "  (7531, 46718)\t0.10259953279619993\n",
            "  (7531, 41127)\t0.08758885945302672\n",
            "  (7531, 40395)\t0.1242042674241263\n",
            "  (7531, 39397)\t0.14587422240960732\n",
            "  (7531, 37431)\t0.1374064333317423\n",
            "  (7531, 34763)\t0.14253575920405764\n",
            "  (7531, 34686)\t0.09972781595027391\n",
            "  (7531, 34018)\t0.13156050219981774\n",
            "  (7531, 30074)\t0.0802124821621346\n",
            "  (7531, 29356)\t0.1848622338971831\n",
            "  (7531, 27211)\t0.1356410245370251\n",
            "  (7531, 26461)\t0.31360713486156755\n",
            "  (7531, 24804)\t0.10687631679332683\n",
            "  (7531, 22267)\t0.09890856799181004\n",
            "  (7531, 22219)\t0.09074954412454103\n",
            "  (7531, 22152)\t0.09548173990914553\n",
            "  (7531, 19491)\t0.13341252869118972\n",
            "  (7531, 18903)\t0.06531484061746679\n",
            "  (7531, 18408)\t0.0604927351258423\n",
            "  (7531, 16408)\t0.1613676054291175\n",
            "ytt: [ 7  5  0 ...  9  6 15]\n"
          ],
          "name": "stdout"
        }
      ]
    },
    {
      "cell_type": "code",
      "metadata": {
        "id": "FnBaCVM5VOA5",
        "colab_type": "code",
        "outputId": "9ada67f4-c146-49ab-db76-0dd295c77619",
        "colab": {
          "base_uri": "https://localhost:8080/",
          "height": 269
        }
      },
      "source": [
        "# Implementing classification model- using MultinomialNB\n",
        "\n",
        "# Instantiate the estimator\n",
        "clf_MNB = MultinomialNB(alpha=.01)\n",
        "\n",
        "# Fit the model with data (aka \"model training\")\n",
        "clf_MNB.fit(Xtr, ytr)\n",
        "\n",
        "# Predict the response for a new observation\n",
        "y_pred = clf_MNB.predict(Xtt)\n",
        "print (\"Predicted Class Labels:\",y_pred)\n",
        "\n",
        "# Predict the response score for a new observation\n",
        "y_pred_score_mnb = clf_MNB.predict_proba(Xtt)\n",
        "print(\"Predicted Score:\\n\",y_pred_score_mnb)"
      ],
      "execution_count": 13,
      "outputs": [
        {
          "output_type": "stream",
          "text": [
            "Predicted Class Labels: [ 7  1 15 ... 11 12 15]\n",
            "Predicted Score:\n",
            " [[2.33922785e-03 8.00299678e-02 5.93857193e-03 ... 2.58534569e-03\n",
            "  6.01529617e-03 6.78500079e-04]\n",
            " [4.09205377e-04 8.04813630e-01 1.13113063e-02 ... 1.04980678e-03\n",
            "  3.35421853e-03 1.16458819e-03]\n",
            " [1.10022079e-01 2.82942568e-02 7.20466138e-02 ... 5.75209783e-02\n",
            "  6.36329151e-02 9.95471475e-02]\n",
            " ...\n",
            " [1.67251951e-02 6.17838347e-03 2.72529039e-03 ... 4.08349633e-02\n",
            "  9.15576372e-02 1.31169817e-02]\n",
            " [5.24325557e-07 1.91154890e-02 2.66689839e-03 ... 4.54799138e-07\n",
            "  1.10886936e-06 6.03922247e-06]\n",
            " [3.69430453e-01 1.14028576e-04 6.52564849e-05 ... 1.64443397e-03\n",
            "  2.64732509e-02 9.27623133e-02]]\n"
          ],
          "name": "stdout"
        }
      ]
    },
    {
      "cell_type": "code",
      "metadata": {
        "id": "Zz6Ot12QVYsX",
        "colab_type": "code",
        "colab": {}
      },
      "source": [
        "from sklearn.metrics import f1_score"
      ],
      "execution_count": 0,
      "outputs": []
    },
    {
      "cell_type": "markdown",
      "metadata": {
        "id": "uz_XJ-716pLT",
        "colab_type": "text"
      },
      "source": [
        ""
      ]
    },
    {
      "cell_type": "code",
      "metadata": {
        "id": "gx9fepQRfb37",
        "colab_type": "code",
        "outputId": "dcf253ee-63d1-4233-95b6-786c470a98f9",
        "colab": {
          "base_uri": "https://localhost:8080/",
          "height": 34
        }
      },
      "source": [
        "f1_score(ytt, y_pred, average='macro')"
      ],
      "execution_count": 15,
      "outputs": [
        {
          "output_type": "execute_result",
          "data": {
            "text/plain": [
              "0.682861129525057"
            ]
          },
          "metadata": {
            "tags": []
          },
          "execution_count": 15
        }
      ]
    },
    {
      "cell_type": "code",
      "metadata": {
        "id": "wDpcQexKfb0t",
        "colab_type": "code",
        "colab": {}
      },
      "source": [
        "from sklearn.neighbors import KNeighborsClassifier"
      ],
      "execution_count": 0,
      "outputs": []
    },
    {
      "cell_type": "code",
      "metadata": {
        "id": "fzJvY-mnfv7T",
        "colab_type": "code",
        "outputId": "20331731-a872-4bec-c441-06259794282b",
        "colab": {
          "base_uri": "https://localhost:8080/",
          "height": 168
        }
      },
      "source": [
        "# Instantiate the estimator\n",
        "clf_knn =  KNeighborsClassifier(n_neighbors=5)\n",
        "\n",
        "# Fit the model with data (aka \"model training\")\n",
        "clf_knn.fit(Xtr, ytr)\n",
        "\n",
        "# Predict the response for a new observation\n",
        "y_pred = clf_knn.predict(Xtt)\n",
        "print (\"Predicted Class Labels:\",y_pred)\n",
        "\n",
        "# Predict the response score for a new observation\n",
        "y_pred_score_knn = clf_knn.predict_proba(Xtt)\n",
        "print (\"Predicted Score:\\n\",y_pred_score_knn)"
      ],
      "execution_count": 24,
      "outputs": [
        {
          "output_type": "stream",
          "text": [
            "Predicted Class Labels: [2 7 2 ... 1 2 2]\n",
            "Predicted Score:\n",
            " [[0.2 0.  0.4 ... 0.2 0.  0. ]\n",
            " [0.  0.  0.  ... 0.  0.  0. ]\n",
            " [0.  0.  0.2 ... 0.  0.  0. ]\n",
            " ...\n",
            " [0.  0.2 0.2 ... 0.2 0.2 0. ]\n",
            " [0.  0.  0.2 ... 0.  0.  0. ]\n",
            " [0.  0.  0.2 ... 0.  0.  0. ]]\n"
          ],
          "name": "stdout"
        }
      ]
    },
    {
      "cell_type": "code",
      "metadata": {
        "id": "AA12avJOgJIK",
        "colab_type": "code",
        "outputId": "1656d635-5d4e-442a-de23-9173ed8427eb",
        "colab": {
          "base_uri": "https://localhost:8080/",
          "height": 34
        }
      },
      "source": [
        "\n",
        "f1_score(ytt, y_pred, average='macro')\n"
      ],
      "execution_count": 25,
      "outputs": [
        {
          "output_type": "execute_result",
          "data": {
            "text/plain": [
              "0.07475920696283023"
            ]
          },
          "metadata": {
            "tags": []
          },
          "execution_count": 25
        }
      ]
    },
    {
      "cell_type": "code",
      "metadata": {
        "id": "nTtfhJo560wA",
        "colab_type": "code",
        "colab": {
          "base_uri": "https://localhost:8080/",
          "height": 34
        },
        "outputId": "38e7b6fc-109c-4930-a8c0-eac564c3b855"
      },
      "source": [
        "# Implementing Rocchio Classification\n",
        "from sklearn.neighbors import NearestCentroid\n",
        "\n",
        "# Instantiate the estimator\n",
        "clf_rocchio =  NearestCentroid()\n",
        "\n",
        "# Fit the model with data (aka \"model training\")\n",
        "clf_rocchio.fit(Xtr, ytr)\n",
        "\n",
        "# Predict the response for a new observation\n",
        "y_pred = clf_rocchio.predict(Xtt)\n",
        "print (\"Predicted Class Labels:\",y_pred)\n",
        "\n",
        "# Predict the response score for a new observation\n",
        "\n",
        "\n"
      ],
      "execution_count": 20,
      "outputs": [
        {
          "output_type": "stream",
          "text": [
            "Predicted Class Labels: [16  1  6 ... 18  3  0]\n"
          ],
          "name": "stdout"
        }
      ]
    },
    {
      "cell_type": "code",
      "metadata": {
        "id": "LELc2hZl7ltI",
        "colab_type": "code",
        "colab": {
          "base_uri": "https://localhost:8080/",
          "height": 34
        },
        "outputId": "3f114290-02d8-44c6-d25b-60b2709048ec"
      },
      "source": [
        "f1_score(ytt, y_pred, average='macro')"
      ],
      "execution_count": 21,
      "outputs": [
        {
          "output_type": "execute_result",
          "data": {
            "text/plain": [
              "0.5481749518900813"
            ]
          },
          "metadata": {
            "tags": []
          },
          "execution_count": 21
        }
      ]
    }
  ]
}